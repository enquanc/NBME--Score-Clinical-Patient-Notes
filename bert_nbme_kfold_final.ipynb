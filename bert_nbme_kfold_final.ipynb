{
  "cells": [
    {
      "cell_type": "markdown",
      "id": "f520896d",
      "metadata": {
        "papermill": {
          "duration": 0.037203,
          "end_time": "2024-06-16T05:17:18.928459",
          "exception": false,
          "start_time": "2024-06-16T05:17:18.891256",
          "status": "completed"
        },
        "tags": [],
        "id": "f520896d"
      },
      "source": [
        "# NBME - Score Clinical Patient Notes\n",
        "- **Framework:** Pytorch\n",
        "- **Model Architecture:**\n",
        "    - BERT\n",
        "    - Linear(768, 512)\n",
        "    - Linear(512, 256)\n",
        "    - Linear(256, 256)\n",
        "    - Linear(256, 1)\n",
        "- **LR:** 1e-5\n",
        "- **Batch Size:** 4\n",
        "- **Epoch:** 3\n",
        "- **Dropout:** 0.2\n",
        "- **Criterion:** BCEWithLogitsLoss\n",
        "- **Optimizer:** AdamW\n",
        "\n",
        "# Tokenizer params\n",
        "- **Max Lenght:** 416\n",
        "- **Padding:** max_lenght\n",
        "- **Truncation:** only_scond\n"
      ]
    },
    {
      "cell_type": "code",
      "execution_count": null,
      "id": "6f5a9046",
      "metadata": {
        "execution": {
          "iopub.execute_input": "2024-06-16T05:17:19.011042Z",
          "iopub.status.busy": "2024-06-16T05:17:19.010439Z",
          "iopub.status.idle": "2024-06-16T05:17:26.676908Z",
          "shell.execute_reply": "2024-06-16T05:17:26.676206Z",
          "shell.execute_reply.started": "2024-06-15T17:33:30.879143Z"
        },
        "papermill": {
          "duration": 7.713736,
          "end_time": "2024-06-16T05:17:26.677098",
          "exception": false,
          "start_time": "2024-06-16T05:17:18.963362",
          "status": "completed"
        },
        "tags": [],
        "id": "6f5a9046"
      },
      "outputs": [],
      "source": [
        "from ast import literal_eval\n",
        "from itertools import chain\n",
        "\n",
        "import numpy as np\n",
        "import pandas as pd\n",
        "import torch\n",
        "import torch.nn as nn\n",
        "from sklearn.metrics import precision_recall_fscore_support\n",
        "from sklearn.model_selection import train_test_split\n",
        "from torch import optim\n",
        "from torch.utils.data import DataLoader\n",
        "from torch.utils.data import Dataset\n",
        "from tqdm.notebook import tqdm\n",
        "from transformers import AutoModel, AutoTokenizer\n",
        "import gc"
      ]
    },
    {
      "cell_type": "code",
      "execution_count": null,
      "id": "a0f9b98c",
      "metadata": {
        "execution": {
          "iopub.execute_input": "2024-06-16T05:17:26.755518Z",
          "iopub.status.busy": "2024-06-16T05:17:26.754795Z",
          "iopub.status.idle": "2024-06-16T05:17:26.757253Z",
          "shell.execute_reply": "2024-06-16T05:17:26.757686Z",
          "shell.execute_reply.started": "2024-06-15T17:33:38.600683Z"
        },
        "papermill": {
          "duration": 0.044624,
          "end_time": "2024-06-16T05:17:26.757827",
          "exception": false,
          "start_time": "2024-06-16T05:17:26.713203",
          "status": "completed"
        },
        "tags": [],
        "id": "a0f9b98c"
      },
      "outputs": [],
      "source": [
        "import os\n",
        "\n",
        "OUTPUT_DIR = './'\n",
        "if not os.path.exists(OUTPUT_DIR):\n",
        "    os.makedirs(OUTPUT_DIR)\n",
        "def get_logger(filename=OUTPUT_DIR+'train'):\n",
        "    from logging import getLogger, INFO, StreamHandler, FileHandler, Formatter\n",
        "    logger = getLogger(__name__)\n",
        "    logger.setLevel(INFO)\n",
        "    handler1 = StreamHandler()\n",
        "    handler1.setFormatter(Formatter(\"%(message)s\"))\n",
        "    handler2 = FileHandler(filename=f\"{filename}.log\")\n",
        "    handler2.setFormatter(Formatter(\"%(message)s\"))\n",
        "    logger.addHandler(handler1)\n",
        "    logger.addHandler(handler2)\n",
        "    return logger\n",
        "\n",
        "LOGGER = get_logger()"
      ]
    },
    {
      "cell_type": "markdown",
      "id": "cad07a39",
      "metadata": {
        "papermill": {
          "duration": 0.03504,
          "end_time": "2024-06-16T05:17:26.827971",
          "exception": false,
          "start_time": "2024-06-16T05:17:26.792931",
          "status": "completed"
        },
        "tags": [],
        "id": "cad07a39"
      },
      "source": [
        "# Helper Functions\n",
        "### 1. Datasets Helper Function\n",
        "need to merge `features.csv`, `patient_notes.csv` with `train.csv`"
      ]
    },
    {
      "cell_type": "code",
      "execution_count": null,
      "id": "f56d7022",
      "metadata": {
        "execution": {
          "iopub.execute_input": "2024-06-16T05:17:26.909729Z",
          "iopub.status.busy": "2024-06-16T05:17:26.909109Z",
          "iopub.status.idle": "2024-06-16T05:17:26.911913Z",
          "shell.execute_reply": "2024-06-16T05:17:26.911324Z",
          "shell.execute_reply.started": "2024-06-15T17:33:38.612219Z"
        },
        "papermill": {
          "duration": 0.046509,
          "end_time": "2024-06-16T05:17:26.912046",
          "exception": false,
          "start_time": "2024-06-16T05:17:26.865537",
          "status": "completed"
        },
        "tags": [],
        "id": "f56d7022"
      },
      "outputs": [],
      "source": [
        "BASE_URL = \"../input/nbme-score-clinical-patient-notes\"\n",
        "\n",
        "\n",
        "def process_feature_text(text):\n",
        "    return text.replace(\"-OR-\", \";-\").replace(\"-\", \" \")\n",
        "\n",
        "\n",
        "def prepare_datasets():\n",
        "    features = pd.read_csv(f\"{BASE_URL}/features.csv\")\n",
        "    notes = pd.read_csv(f\"{BASE_URL}/patient_notes.csv\")\n",
        "    df = pd.read_csv(f\"{BASE_URL}/train.csv\")\n",
        "    df[\"annotation_list\"] = [literal_eval(x) for x in df[\"annotation\"]]\n",
        "    df[\"location_list\"] = [literal_eval(x) for x in df[\"location\"]]\n",
        "\n",
        "    merged = df.merge(notes, how=\"left\")\n",
        "    merged = merged.merge(features, how=\"left\")\n",
        "\n",
        "    merged[\"feature_text\"] = [process_feature_text(x) for x in merged[\"feature_text\"]]\n",
        "    merged[\"feature_text\"] = merged[\"feature_text\"].apply(lambda x: x.lower())\n",
        "    merged[\"pn_history\"] = merged[\"pn_history\"].apply(lambda x: x.lower())\n",
        "\n",
        "    return merged"
      ]
    },
    {
      "cell_type": "markdown",
      "id": "ed862976",
      "metadata": {
        "papermill": {
          "duration": 0.034959,
          "end_time": "2024-06-16T05:17:26.981862",
          "exception": false,
          "start_time": "2024-06-16T05:17:26.946903",
          "status": "completed"
        },
        "tags": [],
        "id": "ed862976"
      },
      "source": [
        "### 2. Tokenizer Helper Function"
      ]
    },
    {
      "cell_type": "code",
      "execution_count": null,
      "id": "6fbd4bcf",
      "metadata": {
        "execution": {
          "iopub.execute_input": "2024-06-16T05:17:27.065480Z",
          "iopub.status.busy": "2024-06-16T05:17:27.064516Z",
          "iopub.status.idle": "2024-06-16T05:17:27.067158Z",
          "shell.execute_reply": "2024-06-16T05:17:27.067603Z",
          "shell.execute_reply.started": "2024-06-15T17:33:38.628594Z"
        },
        "papermill": {
          "duration": 0.047735,
          "end_time": "2024-06-16T05:17:27.067743",
          "exception": false,
          "start_time": "2024-06-16T05:17:27.020008",
          "status": "completed"
        },
        "tags": [],
        "id": "6fbd4bcf"
      },
      "outputs": [],
      "source": [
        "def loc_list_to_ints(loc_list):\n",
        "    to_return = []\n",
        "    for loc_str in loc_list:\n",
        "        loc_strs = loc_str.split(\";\")\n",
        "        for loc in loc_strs:\n",
        "            start, end = loc.split()\n",
        "            to_return.append((int(start), int(end)))\n",
        "    return to_return\n",
        "\n",
        "\n",
        "def tokenize_and_add_labels(tokenizer, data, config):\n",
        "    out = tokenizer(\n",
        "        data[\"feature_text\"],\n",
        "        data[\"pn_history\"],\n",
        "        truncation=config['truncation'],\n",
        "        max_length=config['max_length'],\n",
        "        padding=config['padding'],\n",
        "        return_offsets_mapping=config['return_offsets_mapping']\n",
        "    )\n",
        "    labels = [0.0] * len(out[\"input_ids\"])\n",
        "    out[\"location_int\"] = loc_list_to_ints(data[\"location_list\"])\n",
        "    out[\"sequence_ids\"] = out.sequence_ids()\n",
        "\n",
        "    for idx, (seq_id, offsets) in enumerate(zip(out[\"sequence_ids\"], out[\"offset_mapping\"])):\n",
        "        if not seq_id or seq_id == 0:\n",
        "            labels[idx] = -1\n",
        "            continue\n",
        "\n",
        "        token_start, token_end = offsets\n",
        "        for feature_start, feature_end in out[\"location_int\"]:\n",
        "            if token_start >= feature_start and token_end <= feature_end:\n",
        "                labels[idx] = 1.0\n",
        "                break\n",
        "\n",
        "    out[\"labels\"] = labels\n",
        "\n",
        "    return out"
      ]
    },
    {
      "cell_type": "markdown",
      "id": "b39fbbd8",
      "metadata": {
        "papermill": {
          "duration": 0.041949,
          "end_time": "2024-06-16T05:17:27.145178",
          "exception": false,
          "start_time": "2024-06-16T05:17:27.103229",
          "status": "completed"
        },
        "tags": [],
        "id": "b39fbbd8"
      },
      "source": [
        "### 3. Predection and Score Helper Function"
      ]
    },
    {
      "cell_type": "code",
      "execution_count": null,
      "id": "dda38a6a",
      "metadata": {
        "execution": {
          "iopub.execute_input": "2024-06-16T05:17:27.242973Z",
          "iopub.status.busy": "2024-06-16T05:17:27.242131Z",
          "iopub.status.idle": "2024-06-16T05:17:27.244652Z",
          "shell.execute_reply": "2024-06-16T05:17:27.244185Z",
          "shell.execute_reply.started": "2024-06-15T17:33:38.640286Z"
        },
        "papermill": {
          "duration": 0.052035,
          "end_time": "2024-06-16T05:17:27.244775",
          "exception": false,
          "start_time": "2024-06-16T05:17:27.192740",
          "status": "completed"
        },
        "tags": [],
        "id": "dda38a6a"
      },
      "outputs": [],
      "source": [
        "from sklearn.metrics import accuracy_score\n",
        "\n",
        "def get_location_predictions(preds, offset_mapping, sequence_ids, test=False):\n",
        "    all_predictions = []\n",
        "    for pred, offsets, seq_ids in zip(preds, offset_mapping, sequence_ids):\n",
        "        pred = 1 / (1 + np.exp(-pred))\n",
        "        start_idx = None\n",
        "        end_idx = None\n",
        "        current_preds = []\n",
        "        for pred, offset, seq_id in zip(pred, offsets, seq_ids):\n",
        "            if seq_id is None or seq_id == 0:\n",
        "                continue\n",
        "\n",
        "            if pred > 0.5:\n",
        "                if start_idx is None:\n",
        "                    start_idx = offset[0]\n",
        "                end_idx = offset[1]\n",
        "            elif start_idx is not None:\n",
        "                if test:\n",
        "                    current_preds.append(f\"{start_idx} {end_idx}\")\n",
        "                else:\n",
        "                    current_preds.append((start_idx, end_idx))\n",
        "                start_idx = None\n",
        "        if test:\n",
        "            all_predictions.append(\"; \".join(current_preds))\n",
        "        else:\n",
        "            all_predictions.append(current_preds)\n",
        "\n",
        "    return all_predictions\n",
        "\n",
        "\n",
        "def calculate_char_cv(predictions, offset_mapping, sequence_ids, labels):\n",
        "    all_labels = []\n",
        "    all_preds = []\n",
        "    for preds, offsets, seq_ids, labels in zip(predictions, offset_mapping, sequence_ids, labels):\n",
        "\n",
        "        num_chars = max(list(chain(*offsets)))\n",
        "        char_labels = np.zeros(num_chars)\n",
        "\n",
        "        for o, s_id, label in zip(offsets, seq_ids, labels):\n",
        "            if s_id is None or s_id == 0:\n",
        "                continue\n",
        "            if int(label) == 1:\n",
        "                char_labels[o[0]:o[1]] = 1\n",
        "\n",
        "        char_preds = np.zeros(num_chars)\n",
        "\n",
        "        for start_idx, end_idx in preds:\n",
        "            char_preds[start_idx:end_idx] = 1\n",
        "\n",
        "        all_labels.extend(char_labels)\n",
        "        all_preds.extend(char_preds)\n",
        "\n",
        "    results = precision_recall_fscore_support(all_labels, all_preds, average=\"binary\", labels=np.unique(all_preds))\n",
        "    accuracy = accuracy_score(all_labels, all_preds)\n",
        "\n",
        "\n",
        "    return {\n",
        "        \"Accuracy\": accuracy,\n",
        "        \"precision\": results[0],\n",
        "        \"recall\": results[1],\n",
        "        \"f1\": results[2]\n",
        "    }"
      ]
    },
    {
      "cell_type": "markdown",
      "id": "fa967cff",
      "metadata": {
        "papermill": {
          "duration": 0.034388,
          "end_time": "2024-06-16T05:17:27.314347",
          "exception": false,
          "start_time": "2024-06-16T05:17:27.279959",
          "status": "completed"
        },
        "tags": [],
        "id": "fa967cff"
      },
      "source": [
        "# Dataset"
      ]
    },
    {
      "cell_type": "code",
      "execution_count": null,
      "id": "efa4e050",
      "metadata": {
        "execution": {
          "iopub.execute_input": "2024-06-16T05:17:27.391868Z",
          "iopub.status.busy": "2024-06-16T05:17:27.391275Z",
          "iopub.status.idle": "2024-06-16T05:17:27.394436Z",
          "shell.execute_reply": "2024-06-16T05:17:27.393967Z",
          "shell.execute_reply.started": "2024-06-15T17:33:38.656693Z"
        },
        "papermill": {
          "duration": 0.045476,
          "end_time": "2024-06-16T05:17:27.394556",
          "exception": false,
          "start_time": "2024-06-16T05:17:27.349080",
          "status": "completed"
        },
        "tags": [],
        "id": "efa4e050"
      },
      "outputs": [],
      "source": [
        "class CustomDataset(Dataset):\n",
        "    def __init__(self, data, tokenizer, config):\n",
        "        self.data = data\n",
        "        self.tokenizer = tokenizer\n",
        "        self.config = config\n",
        "\n",
        "    def __len__(self):\n",
        "        return len(self.data)\n",
        "\n",
        "    def __getitem__(self, idx):\n",
        "        data = self.data.iloc[idx]\n",
        "        tokens = tokenize_and_add_labels(self.tokenizer, data, self.config)\n",
        "\n",
        "        input_ids = np.array(tokens[\"input_ids\"])\n",
        "        attention_mask = np.array(tokens[\"attention_mask\"])\n",
        "        token_type_ids = np.array(tokens[\"token_type_ids\"])\n",
        "\n",
        "        labels = np.array(tokens[\"labels\"])\n",
        "        offset_mapping = np.array(tokens['offset_mapping'])\n",
        "        sequence_ids = np.array(tokens['sequence_ids']).astype(\"float16\")\n",
        "\n",
        "        return input_ids, attention_mask, token_type_ids, labels, offset_mapping, sequence_ids"
      ]
    },
    {
      "cell_type": "markdown",
      "id": "a9801a90",
      "metadata": {
        "papermill": {
          "duration": 0.034372,
          "end_time": "2024-06-16T05:17:27.463479",
          "exception": false,
          "start_time": "2024-06-16T05:17:27.429107",
          "status": "completed"
        },
        "tags": [],
        "id": "a9801a90"
      },
      "source": [
        "# Model\n",
        "- Lets use **BERT** base Architecture\n",
        "- Also Used 3 FC layers\n",
        "\n",
        "**Comments:** 3 layers improve accuracy 2% on public score"
      ]
    },
    {
      "cell_type": "code",
      "execution_count": null,
      "id": "0cf54a39",
      "metadata": {
        "execution": {
          "iopub.execute_input": "2024-06-16T05:17:27.542070Z",
          "iopub.status.busy": "2024-06-16T05:17:27.541445Z",
          "iopub.status.idle": "2024-06-16T05:17:27.543761Z",
          "shell.execute_reply": "2024-06-16T05:17:27.544207Z",
          "shell.execute_reply.started": "2024-06-15T17:33:38.668373Z"
        },
        "papermill": {
          "duration": 0.046219,
          "end_time": "2024-06-16T05:17:27.544347",
          "exception": false,
          "start_time": "2024-06-16T05:17:27.498128",
          "status": "completed"
        },
        "tags": [],
        "id": "0cf54a39"
      },
      "outputs": [],
      "source": [
        "class CustomModel(nn.Module):\n",
        "    def __init__(self, config):\n",
        "        super().__init__()\n",
        "        self.bert = AutoModel.from_pretrained(config['model_name'])  # BERT model\n",
        "        self.dropout = nn.Dropout(p=config['dropout'])\n",
        "        self.config = config\n",
        "        self.fc1 = nn.Linear(768, 512)\n",
        "        self.fc2 = nn.Linear(512, 256)\n",
        "        self.fc3 = nn.Linear(256, 256)\n",
        "        self.fc4 = nn.Linear(256, 1)\n",
        "\n",
        "\n",
        "#         self.fc1 = nn.Linear(768, 256)\n",
        "#         self.fc2 = nn.Linear(256, 256)\n",
        "#         self.fc3 = nn.Linear(256, 1)\n",
        "\n",
        "    def forward(self, input_ids, attention_mask, token_type_ids):\n",
        "        outputs = self.bert(input_ids=input_ids, attention_mask=attention_mask, token_type_ids=token_type_ids)\n",
        "        logits = self.fc1(outputs[0])\n",
        "        logits = self.fc2(self.dropout(logits))\n",
        "        logits = self.fc3(self.dropout(logits))\n",
        "        logits = self.fc4(self.dropout(logits)).squeeze(-1)\n",
        "        return logits"
      ]
    },
    {
      "cell_type": "markdown",
      "id": "fcc8787f",
      "metadata": {
        "papermill": {
          "duration": 0.034003,
          "end_time": "2024-06-16T05:17:27.613492",
          "exception": false,
          "start_time": "2024-06-16T05:17:27.579489",
          "status": "completed"
        },
        "tags": [],
        "id": "fcc8787f"
      },
      "source": [
        "## Hyperparameters\n"
      ]
    },
    {
      "cell_type": "code",
      "execution_count": null,
      "id": "93640c60",
      "metadata": {
        "execution": {
          "iopub.execute_input": "2024-06-16T05:17:27.687785Z",
          "iopub.status.busy": "2024-06-16T05:17:27.686981Z",
          "iopub.status.idle": "2024-06-16T05:17:27.689268Z",
          "shell.execute_reply": "2024-06-16T05:17:27.688748Z",
          "shell.execute_reply.started": "2024-06-15T17:33:38.680579Z"
        },
        "papermill": {
          "duration": 0.041207,
          "end_time": "2024-06-16T05:17:27.689391",
          "exception": false,
          "start_time": "2024-06-16T05:17:27.648184",
          "status": "completed"
        },
        "tags": [],
        "id": "93640c60"
      },
      "outputs": [],
      "source": [
        "hyperparameters = {\n",
        "    \"max_length\": 416,\n",
        "    \"padding\": \"max_length\",\n",
        "    \"return_offsets_mapping\": True,\n",
        "    \"truncation\": \"only_second\",\n",
        "    \"model_name\": \"../input/huggingface-bert/bert-base-uncased\",\n",
        "    \"dropout\": 0.2,\n",
        "    \"lr\": 1e-5,\n",
        "    \"test_size\": 0.2,\n",
        "    \"seed\": 1268,\n",
        "    \"batch_size\": 4\n",
        "}"
      ]
    },
    {
      "cell_type": "markdown",
      "id": "6ed01692",
      "metadata": {
        "papermill": {
          "duration": 0.034404,
          "end_time": "2024-06-16T05:17:27.758528",
          "exception": false,
          "start_time": "2024-06-16T05:17:27.724124",
          "status": "completed"
        },
        "tags": [],
        "id": "6ed01692"
      },
      "source": [
        "# Prepare Datasets\n",
        "Train and Test split: 20%\n",
        "\n",
        "Total Data:\n",
        "- Using Kflod ( k = 5)\n",
        "=>Train/fold : 2860"
      ]
    },
    {
      "cell_type": "code",
      "execution_count": null,
      "id": "1e96b3d3",
      "metadata": {
        "execution": {
          "iopub.execute_input": "2024-06-16T05:17:27.832209Z",
          "iopub.status.busy": "2024-06-16T05:17:27.831546Z",
          "iopub.status.idle": "2024-06-16T05:17:27.833649Z",
          "shell.execute_reply": "2024-06-16T05:17:27.834124Z",
          "shell.execute_reply.started": "2024-06-15T17:33:38.689218Z"
        },
        "papermill": {
          "duration": 0.041165,
          "end_time": "2024-06-16T05:17:27.834268",
          "exception": false,
          "start_time": "2024-06-16T05:17:27.793103",
          "status": "completed"
        },
        "tags": [],
        "id": "1e96b3d3"
      },
      "outputs": [],
      "source": [
        "from sklearn.model_selection import GroupKFold\n",
        "k=5\n",
        "Fold = GroupKFold(n_splits=k)\n",
        "trn_fold=[0, 1, 2, 3, 4]"
      ]
    },
    {
      "cell_type": "code",
      "execution_count": null,
      "id": "ffbf2ea8",
      "metadata": {
        "execution": {
          "iopub.execute_input": "2024-06-16T05:17:27.909321Z",
          "iopub.status.busy": "2024-06-16T05:17:27.908654Z",
          "iopub.status.idle": "2024-06-16T05:17:29.092735Z",
          "shell.execute_reply": "2024-06-16T05:17:29.093260Z",
          "shell.execute_reply.started": "2024-06-15T17:33:38.699266Z"
        },
        "papermill": {
          "duration": 1.224521,
          "end_time": "2024-06-16T05:17:29.093439",
          "exception": false,
          "start_time": "2024-06-16T05:17:27.868918",
          "status": "completed"
        },
        "tags": [],
        "id": "ffbf2ea8",
        "outputId": "8051d229-3cfd-4604-caa1-6d9c37038206"
      },
      "outputs": [
        {
          "data": {
            "text/plain": [
              "fold\n",
              "0    2860\n",
              "1    2860\n",
              "2    2860\n",
              "3    2860\n",
              "4    2860\n",
              "dtype: int64"
            ]
          },
          "metadata": {},
          "output_type": "display_data"
        }
      ],
      "source": [
        "train = prepare_datasets()\n",
        "groups = train['pn_num'].values\n",
        "for n, (train_index, val_index) in enumerate(Fold.split(train, train['location'], groups)):\n",
        "    train.loc[val_index, 'fold'] = int(n)\n",
        "train['fold'] = train['fold'].astype(int)\n",
        "display(train.groupby('fold').size())"
      ]
    },
    {
      "cell_type": "code",
      "execution_count": null,
      "id": "5e364a31",
      "metadata": {
        "execution": {
          "iopub.execute_input": "2024-06-16T05:17:29.169402Z",
          "iopub.status.busy": "2024-06-16T05:17:29.168575Z",
          "iopub.status.idle": "2024-06-16T05:17:29.171201Z",
          "shell.execute_reply": "2024-06-16T05:17:29.170570Z",
          "shell.execute_reply.started": "2024-06-15T17:33:39.835491Z"
        },
        "papermill": {
          "duration": 0.041518,
          "end_time": "2024-06-16T05:17:29.171328",
          "exception": false,
          "start_time": "2024-06-16T05:17:29.129810",
          "status": "completed"
        },
        "tags": [],
        "id": "5e364a31"
      },
      "outputs": [],
      "source": [
        "# train test split\n",
        "# train_df = prepare_datasets()\n",
        "\n",
        "# X_train, X_test = train_test_split(train_df, test_size=hyperparameters['test_size'],\n",
        "#                                    random_state=hyperparameters['seed'])\n",
        "\n",
        "\n",
        "# print(\"Train size\", len(X_train))\n",
        "# print(\"Test Size\", len(X_test))"
      ]
    },
    {
      "cell_type": "code",
      "execution_count": null,
      "id": "450e65a6",
      "metadata": {
        "execution": {
          "iopub.execute_input": "2024-06-16T05:17:29.245620Z",
          "iopub.status.busy": "2024-06-16T05:17:29.244953Z",
          "iopub.status.idle": "2024-06-16T05:17:29.312193Z",
          "shell.execute_reply": "2024-06-16T05:17:29.311695Z",
          "shell.execute_reply.started": "2024-06-15T17:33:39.840451Z"
        },
        "papermill": {
          "duration": 0.105846,
          "end_time": "2024-06-16T05:17:29.312322",
          "exception": false,
          "start_time": "2024-06-16T05:17:29.206476",
          "status": "completed"
        },
        "tags": [],
        "id": "450e65a6"
      },
      "outputs": [],
      "source": [
        "tokenizer = AutoTokenizer.from_pretrained(hyperparameters['model_name'])\n",
        "\n",
        "# training_data = CustomDataset(X_train, tokenizer, hyperparameters)\n",
        "# train_dataloader = DataLoader(training_data, batch_size=hyperparameters['batch_size'], shuffle=True)\n",
        "\n",
        "# test_data = CustomDataset(X_test, tokenizer, hyperparameters)\n",
        "# test_dataloader = DataLoader(test_data, batch_size=hyperparameters['batch_size'], shuffle=False)"
      ]
    },
    {
      "cell_type": "markdown",
      "id": "43b9fe0c",
      "metadata": {
        "papermill": {
          "duration": 0.034904,
          "end_time": "2024-06-16T05:17:29.382544",
          "exception": false,
          "start_time": "2024-06-16T05:17:29.347640",
          "status": "completed"
        },
        "tags": [],
        "id": "43b9fe0c"
      },
      "source": [
        "# Train\n",
        "Lets train the model\n",
        "with BCEWithLogitsLoss and AdamW as optimizer\n",
        "\n",
        "**Notes:** on BCEWithLogitsLoss, the default value for reduction is `mean` (the sum of the output will be divided by the number of elements in the output). If we use this default value, it will produce negative loss. Because we have some negative labels. To fix this negative loss issue, we can use `none` as parameter. To calculate the mean, first, we have to filter out the negative values. [DOC](https://pytorch.org/docs/stable/generated/torch.nn.BCEWithLogitsLoss.html)"
      ]
    },
    {
      "cell_type": "code",
      "execution_count": null,
      "id": "bb5910e9",
      "metadata": {
        "execution": {
          "iopub.execute_input": "2024-06-16T05:17:29.541802Z",
          "iopub.status.busy": "2024-06-16T05:17:29.540971Z",
          "iopub.status.idle": "2024-06-16T05:17:29.542775Z",
          "shell.execute_reply": "2024-06-16T05:17:29.543387Z",
          "shell.execute_reply.started": "2024-06-15T17:33:39.911795Z"
        },
        "papermill": {
          "duration": 0.125927,
          "end_time": "2024-06-16T05:17:29.543547",
          "exception": false,
          "start_time": "2024-06-16T05:17:29.417620",
          "status": "completed"
        },
        "tags": [],
        "id": "bb5910e9"
      },
      "outputs": [],
      "source": [
        "DEVICE = \"cuda\" if torch.cuda.is_available() else \"cpu\""
      ]
    },
    {
      "cell_type": "code",
      "execution_count": null,
      "id": "a8d10a6b",
      "metadata": {
        "execution": {
          "iopub.execute_input": "2024-06-16T05:17:29.620076Z",
          "iopub.status.busy": "2024-06-16T05:17:29.619264Z",
          "iopub.status.idle": "2024-06-16T05:17:29.621824Z",
          "shell.execute_reply": "2024-06-16T05:17:29.621345Z",
          "shell.execute_reply.started": "2024-06-15T17:33:39.982381Z"
        },
        "papermill": {
          "duration": 0.042741,
          "end_time": "2024-06-16T05:17:29.621981",
          "exception": false,
          "start_time": "2024-06-16T05:17:29.579240",
          "status": "completed"
        },
        "tags": [],
        "id": "a8d10a6b"
      },
      "outputs": [],
      "source": [
        "\n",
        "DEVICE = torch.device(\"cuda\") if torch.cuda.is_available() else torch.device(\"cpu\")\n",
        "# model.to(DEVICE)"
      ]
    },
    {
      "cell_type": "code",
      "execution_count": null,
      "id": "fdfd7e92",
      "metadata": {
        "execution": {
          "iopub.execute_input": "2024-06-16T05:17:29.697395Z",
          "iopub.status.busy": "2024-06-16T05:17:29.696717Z",
          "iopub.status.idle": "2024-06-16T05:17:29.699491Z",
          "shell.execute_reply": "2024-06-16T05:17:29.698972Z",
          "shell.execute_reply.started": "2024-06-15T17:33:39.991099Z"
        },
        "papermill": {
          "duration": 0.041578,
          "end_time": "2024-06-16T05:17:29.699611",
          "exception": false,
          "start_time": "2024-06-16T05:17:29.658033",
          "status": "completed"
        },
        "tags": [],
        "id": "fdfd7e92"
      },
      "outputs": [],
      "source": [
        "from transformers import logging\n",
        "logging.set_verbosity_error()"
      ]
    },
    {
      "cell_type": "code",
      "execution_count": null,
      "id": "ffedbd3d",
      "metadata": {
        "execution": {
          "iopub.execute_input": "2024-06-16T05:17:29.773320Z",
          "iopub.status.busy": "2024-06-16T05:17:29.772717Z",
          "iopub.status.idle": "2024-06-16T05:17:39.339352Z",
          "shell.execute_reply": "2024-06-16T05:17:39.338730Z",
          "shell.execute_reply.started": "2024-06-15T17:33:40.000544Z"
        },
        "papermill": {
          "duration": 9.60491,
          "end_time": "2024-06-16T05:17:39.339506",
          "exception": false,
          "start_time": "2024-06-16T05:17:29.734596",
          "status": "completed"
        },
        "tags": [],
        "id": "ffedbd3d"
      },
      "outputs": [],
      "source": [
        "model = CustomModel(hyperparameters).to(DEVICE)"
      ]
    },
    {
      "cell_type": "code",
      "execution_count": null,
      "id": "a7c503b3",
      "metadata": {
        "execution": {
          "iopub.execute_input": "2024-06-16T05:17:39.416730Z",
          "iopub.status.busy": "2024-06-16T05:17:39.415885Z",
          "iopub.status.idle": "2024-06-16T05:17:39.418041Z",
          "shell.execute_reply": "2024-06-16T05:17:39.418491Z",
          "shell.execute_reply.started": "2024-06-15T17:33:49.569905Z"
        },
        "papermill": {
          "duration": 0.041999,
          "end_time": "2024-06-16T05:17:39.418634",
          "exception": false,
          "start_time": "2024-06-16T05:17:39.376635",
          "status": "completed"
        },
        "tags": [],
        "id": "a7c503b3"
      },
      "outputs": [],
      "source": [
        "# model"
      ]
    },
    {
      "cell_type": "code",
      "execution_count": null,
      "id": "e55229f4",
      "metadata": {
        "execution": {
          "iopub.execute_input": "2024-06-16T05:17:39.494682Z",
          "iopub.status.busy": "2024-06-16T05:17:39.493907Z",
          "iopub.status.idle": "2024-06-16T05:17:39.496809Z",
          "shell.execute_reply": "2024-06-16T05:17:39.496344Z",
          "shell.execute_reply.started": "2024-06-15T17:33:49.574818Z"
        },
        "papermill": {
          "duration": 0.042932,
          "end_time": "2024-06-16T05:17:39.496928",
          "exception": false,
          "start_time": "2024-06-16T05:17:39.453996",
          "status": "completed"
        },
        "tags": [],
        "id": "e55229f4"
      },
      "outputs": [],
      "source": [
        "criterion = torch.nn.BCEWithLogitsLoss(reduction = \"none\")\n",
        "optimizer = optim.AdamW(model.parameters(), lr=hyperparameters['lr'])"
      ]
    },
    {
      "cell_type": "code",
      "execution_count": null,
      "id": "26ae1657",
      "metadata": {
        "execution": {
          "iopub.execute_input": "2024-06-16T05:17:39.594402Z",
          "iopub.status.busy": "2024-06-16T05:17:39.590046Z",
          "iopub.status.idle": "2024-06-16T05:17:39.596911Z",
          "shell.execute_reply": "2024-06-16T05:17:39.596329Z",
          "shell.execute_reply.started": "2024-06-15T17:33:49.583708Z"
        },
        "papermill": {
          "duration": 0.064325,
          "end_time": "2024-06-16T05:17:39.597044",
          "exception": false,
          "start_time": "2024-06-16T05:17:39.532719",
          "status": "completed"
        },
        "tags": [],
        "id": "26ae1657"
      },
      "outputs": [],
      "source": [
        "def train_model(model, dataloader, optimizer, criterion):\n",
        "        model.train()\n",
        "        train_loss = []\n",
        "\n",
        "        for batch in tqdm(dataloader):\n",
        "            optimizer.zero_grad()\n",
        "            input_ids = batch[0].to(DEVICE)\n",
        "            attention_mask = batch[1].to(DEVICE)\n",
        "            token_type_ids = batch[2].to(DEVICE)\n",
        "            labels = batch[3].to(DEVICE)\n",
        "\n",
        "            logits = model(input_ids, attention_mask, token_type_ids)\n",
        "            loss = criterion(logits, labels)\n",
        "            # since, we have\n",
        "            loss = torch.masked_select(loss, labels > -1.0).mean()\n",
        "            train_loss.append(loss.item() * input_ids.size(0))\n",
        "            loss.backward()\n",
        "            # clip the the gradients to 1.0. It helps in preventing the exploding gradient problem\n",
        "            # it's also improve f1 accuracy slightly\n",
        "            nn.utils.clip_grad_norm_(model.parameters(), 1.0)\n",
        "            optimizer.step()\n",
        "\n",
        "        return sum(train_loss)/len(train_loss)"
      ]
    },
    {
      "cell_type": "code",
      "execution_count": null,
      "id": "7bdd0823",
      "metadata": {
        "execution": {
          "iopub.execute_input": "2024-06-16T05:17:39.679173Z",
          "iopub.status.busy": "2024-06-16T05:17:39.674233Z",
          "iopub.status.idle": "2024-06-16T05:17:39.681579Z",
          "shell.execute_reply": "2024-06-16T05:17:39.681082Z",
          "shell.execute_reply.started": "2024-06-15T17:33:49.612746Z"
        },
        "papermill": {
          "duration": 0.049314,
          "end_time": "2024-06-16T05:17:39.681692",
          "exception": false,
          "start_time": "2024-06-16T05:17:39.632378",
          "status": "completed"
        },
        "tags": [],
        "id": "7bdd0823"
      },
      "outputs": [],
      "source": [
        "def eval_model(model, dataloader, criterion):\n",
        "        model.eval()\n",
        "        valid_loss = []\n",
        "        preds = []\n",
        "        offsets = []\n",
        "        seq_ids = []\n",
        "        valid_labels = []\n",
        "\n",
        "        for batch in tqdm(dataloader):\n",
        "            input_ids = batch[0].to(DEVICE)\n",
        "            attention_mask = batch[1].to(DEVICE)\n",
        "            token_type_ids = batch[2].to(DEVICE)\n",
        "            labels = batch[3].to(DEVICE)\n",
        "            offset_mapping = batch[4]\n",
        "            sequence_ids = batch[5]\n",
        "\n",
        "            logits = model(input_ids, attention_mask, token_type_ids)\n",
        "            loss = criterion(logits, labels)\n",
        "            loss = torch.masked_select(loss, labels > -1.0).mean()\n",
        "            valid_loss.append(loss.item() * input_ids.size(0))\n",
        "\n",
        "            preds.append(logits.detach().cpu().numpy())\n",
        "            offsets.append(offset_mapping.numpy())\n",
        "            seq_ids.append(sequence_ids.numpy())\n",
        "            valid_labels.append(labels.detach().cpu().numpy())\n",
        "\n",
        "        preds = np.concatenate(preds, axis=0)\n",
        "        offsets = np.concatenate(offsets, axis=0)\n",
        "        seq_ids = np.concatenate(seq_ids, axis=0)\n",
        "        valid_labels = np.concatenate(valid_labels, axis=0)\n",
        "        location_preds = get_location_predictions(preds, offsets, seq_ids, test=False)\n",
        "        score = calculate_char_cv(location_preds, offsets, seq_ids, valid_labels)\n",
        "\n",
        "        return sum(valid_loss)/len(valid_loss), score"
      ]
    },
    {
      "cell_type": "code",
      "execution_count": null,
      "id": "a3d32a3c",
      "metadata": {
        "execution": {
          "iopub.execute_input": "2024-06-16T05:17:39.756928Z",
          "iopub.status.busy": "2024-06-16T05:17:39.756322Z",
          "iopub.status.idle": "2024-06-16T05:17:39.758972Z",
          "shell.execute_reply": "2024-06-16T05:17:39.758469Z",
          "shell.execute_reply.started": "2024-06-15T17:33:49.625964Z"
        },
        "papermill": {
          "duration": 0.042054,
          "end_time": "2024-06-16T05:17:39.759096",
          "exception": false,
          "start_time": "2024-06-16T05:17:39.717042",
          "status": "completed"
        },
        "tags": [],
        "id": "a3d32a3c"
      },
      "outputs": [],
      "source": [
        "import time\n",
        "\n",
        "T_loss,V_loss = [], []\n",
        "total_score = []\n",
        "\n",
        "\n",
        "valid_loss_min = np.Inf\n",
        "since = time.time()\n",
        "epochs = 3"
      ]
    },
    {
      "cell_type": "code",
      "execution_count": null,
      "id": "e6a13b8b",
      "metadata": {
        "execution": {
          "iopub.execute_input": "2024-06-16T05:17:39.843037Z",
          "iopub.status.busy": "2024-06-16T05:17:39.842236Z",
          "iopub.status.idle": "2024-06-16T09:39:52.344995Z",
          "shell.execute_reply": "2024-06-16T09:39:52.345596Z",
          "shell.execute_reply.started": "2024-06-15T17:33:49.637094Z"
        },
        "papermill": {
          "duration": 15732.551383,
          "end_time": "2024-06-16T09:39:52.345824",
          "exception": false,
          "start_time": "2024-06-16T05:17:39.794441",
          "status": "completed"
        },
        "tags": [],
        "id": "e6a13b8b",
        "outputId": "c5bf9145-78d3-48de-86dd-6f13345d0468",
        "colab": {
          "referenced_widgets": [
            "5f94a091e8f54a7ca3bd157d3c310efe",
            "176980a82ff44930bfebc673244c7651",
            "0f6b17c3824842a3b109562b0bdfbf62",
            "b7a7835ee217442fbd4b5b34c90fd03f",
            "9d8e43fdcd344f02894d93bfdf74b08e",
            "89f7ecc5a4aa4267b1aa731f7e00161f",
            "4c3735117f394194888a21379756a967",
            "1fa3d132574f4918930fab34eb8cd93a",
            "42f599602c3c4a5f8c919ff73e20c91a",
            "59362416e6a745d7a9ee1ac76854fc0b",
            "ca32041e13764f12998a9da697eaa6a4",
            "2c92848e5dc64a869a57413201e67d7a",
            "c003e9004551493d90db422b4ae2ac02",
            "5e75b146938f498e80eb5143a463a398",
            "fccae27e941b4beabae321e78970f03e",
            "fa88ec2f74fb469da87ff74107db7f21",
            "93af6e2eba51453799f93b097931956e",
            "55b8f6e1be5d4034b8ea80fb5af0c40c",
            "59b90cd755284098b4e131632d462eab",
            "14e289e5351d4a1fbb3559f40acf9bc0",
            "043c05a0b37c4014b2ebe94104a67005",
            "bf9dbdd0f478410991a44f2c79103002",
            "8ed6b9f03ea84e68b1e8a1ea295737ac",
            "df53a22cea2a4b91954407a4cf0720f3",
            "695d6d0ad9fb454b8b38de256c993554",
            "80bd36a4af4a4a48b9fa73007fca876a",
            "17d44f1817ca40a299f278a20ed28bc8",
            "c0f965b81e6f4f8cb34821152232ab61",
            "ed1b9aab1ddd4532ba921a04b1476580",
            "c264a2c6933240adb853a99be13ad197"
          ]
        }
      },
      "outputs": [
        {
          "name": "stderr",
          "output_type": "stream",
          "text": [
            "========== fold: 0 training ==========\n"
          ]
        },
        {
          "name": "stdout",
          "output_type": "stream",
          "text": [
            "Epoch: 1/3\n"
          ]
        },
        {
          "data": {
            "application/vnd.jupyter.widget-view+json": {
              "model_id": "5f94a091e8f54a7ca3bd157d3c310efe",
              "version_major": 2,
              "version_minor": 0
            },
            "text/plain": [
              "  0%|          | 0/2860 [00:00<?, ?it/s]"
            ]
          },
          "metadata": {},
          "output_type": "display_data"
        },
        {
          "name": "stdout",
          "output_type": "stream",
          "text": [
            "Train loss: 0.14331501370151944\n"
          ]
        },
        {
          "data": {
            "application/vnd.jupyter.widget-view+json": {
              "model_id": "176980a82ff44930bfebc673244c7651",
              "version_major": 2,
              "version_minor": 0
            },
            "text/plain": [
              "  0%|          | 0/715 [00:00<?, ?it/s]"
            ]
          },
          "metadata": {},
          "output_type": "display_data"
        },
        {
          "name": "stdout",
          "output_type": "stream",
          "text": [
            "Valid loss: 0.07390491554342117\n",
            "Valid score: {'Accuracy': 0.992623469764608, 'precision': 0.7423398328690808, 'recall': 0.7671934824538676, 'f1': 0.7545620567124878}\n",
            "Epoch: 2/3\n"
          ]
        },
        {
          "data": {
            "application/vnd.jupyter.widget-view+json": {
              "model_id": "0f6b17c3824842a3b109562b0bdfbf62",
              "version_major": 2,
              "version_minor": 0
            },
            "text/plain": [
              "  0%|          | 0/2860 [00:00<?, ?it/s]"
            ]
          },
          "metadata": {},
          "output_type": "display_data"
        },
        {
          "name": "stdout",
          "output_type": "stream",
          "text": [
            "Train loss: 0.06065397831294189\n"
          ]
        },
        {
          "data": {
            "application/vnd.jupyter.widget-view+json": {
              "model_id": "b7a7835ee217442fbd4b5b34c90fd03f",
              "version_major": 2,
              "version_minor": 0
            },
            "text/plain": [
              "  0%|          | 0/715 [00:00<?, ?it/s]"
            ]
          },
          "metadata": {},
          "output_type": "display_data"
        },
        {
          "name": "stdout",
          "output_type": "stream",
          "text": [
            "Valid loss: 0.06138392990661647\n",
            "Valid score: {'Accuracy': 0.9932131837235544, 'precision': 0.736635259736988, 'recall': 0.8417537496041685, 'f1': 0.7856941328210021}\n",
            "Epoch: 3/3\n"
          ]
        },
        {
          "data": {
            "application/vnd.jupyter.widget-view+json": {
              "model_id": "9d8e43fdcd344f02894d93bfdf74b08e",
              "version_major": 2,
              "version_minor": 0
            },
            "text/plain": [
              "  0%|          | 0/2860 [00:00<?, ?it/s]"
            ]
          },
          "metadata": {},
          "output_type": "display_data"
        },
        {
          "name": "stdout",
          "output_type": "stream",
          "text": [
            "Train loss: 0.04166608218713339\n"
          ]
        },
        {
          "data": {
            "application/vnd.jupyter.widget-view+json": {
              "model_id": "89f7ecc5a4aa4267b1aa731f7e00161f",
              "version_major": 2,
              "version_minor": 0
            },
            "text/plain": [
              "  0%|          | 0/715 [00:00<?, ?it/s]"
            ]
          },
          "metadata": {},
          "output_type": "display_data"
        },
        {
          "name": "stdout",
          "output_type": "stream",
          "text": [
            "Valid loss: 0.059798099620327685\n",
            "Valid score: {'Accuracy': 0.9938488494195615, 'precision': 0.7674473809147017, 'recall': 0.837637101649538, 'f1': 0.801007556675063}\n"
          ]
        },
        {
          "name": "stderr",
          "output_type": "stream",
          "text": [
            "========== fold: 1 training ==========\n"
          ]
        },
        {
          "name": "stdout",
          "output_type": "stream",
          "text": [
            "Training completed in 52m 25s\n",
            "Epoch: 1/3\n"
          ]
        },
        {
          "data": {
            "application/vnd.jupyter.widget-view+json": {
              "model_id": "4c3735117f394194888a21379756a967",
              "version_major": 2,
              "version_minor": 0
            },
            "text/plain": [
              "  0%|          | 0/2860 [00:00<?, ?it/s]"
            ]
          },
          "metadata": {},
          "output_type": "display_data"
        },
        {
          "name": "stdout",
          "output_type": "stream",
          "text": [
            "Train loss: 0.14883233900003845\n"
          ]
        },
        {
          "data": {
            "application/vnd.jupyter.widget-view+json": {
              "model_id": "1fa3d132574f4918930fab34eb8cd93a",
              "version_major": 2,
              "version_minor": 0
            },
            "text/plain": [
              "  0%|          | 0/715 [00:00<?, ?it/s]"
            ]
          },
          "metadata": {},
          "output_type": "display_data"
        },
        {
          "name": "stdout",
          "output_type": "stream",
          "text": [
            "Valid loss: 0.07289372465915757\n",
            "Valid score: {'Accuracy': 0.9918672718171372, 'precision': 0.6805952498275353, 'recall': 0.8216537775133849, 'f1': 0.7445019404915911}\n",
            "Epoch: 2/3\n"
          ]
        },
        {
          "data": {
            "application/vnd.jupyter.widget-view+json": {
              "model_id": "42f599602c3c4a5f8c919ff73e20c91a",
              "version_major": 2,
              "version_minor": 0
            },
            "text/plain": [
              "  0%|          | 0/2860 [00:00<?, ?it/s]"
            ]
          },
          "metadata": {},
          "output_type": "display_data"
        },
        {
          "name": "stdout",
          "output_type": "stream",
          "text": [
            "Train loss: 0.06036216834521637\n"
          ]
        },
        {
          "data": {
            "application/vnd.jupyter.widget-view+json": {
              "model_id": "59362416e6a745d7a9ee1ac76854fc0b",
              "version_major": 2,
              "version_minor": 0
            },
            "text/plain": [
              "  0%|          | 0/715 [00:00<?, ?it/s]"
            ]
          },
          "metadata": {},
          "output_type": "display_data"
        },
        {
          "name": "stdout",
          "output_type": "stream",
          "text": [
            "Valid loss: 0.06436527510468001\n",
            "Valid score: {'Accuracy': 0.992699846996617, 'precision': 0.6979278441471731, 'recall': 0.8705829863176681, 'f1': 0.7747528356075546}\n",
            "Epoch: 3/3\n"
          ]
        },
        {
          "data": {
            "application/vnd.jupyter.widget-view+json": {
              "model_id": "ca32041e13764f12998a9da697eaa6a4",
              "version_major": 2,
              "version_minor": 0
            },
            "text/plain": [
              "  0%|          | 0/2860 [00:00<?, ?it/s]"
            ]
          },
          "metadata": {},
          "output_type": "display_data"
        },
        {
          "name": "stdout",
          "output_type": "stream",
          "text": [
            "Train loss: 0.04277754011235292\n"
          ]
        },
        {
          "data": {
            "application/vnd.jupyter.widget-view+json": {
              "model_id": "2c92848e5dc64a869a57413201e67d7a",
              "version_major": 2,
              "version_minor": 0
            },
            "text/plain": [
              "  0%|          | 0/715 [00:00<?, ?it/s]"
            ]
          },
          "metadata": {},
          "output_type": "display_data"
        },
        {
          "name": "stdout",
          "output_type": "stream",
          "text": [
            "Valid loss: 0.05851247878733465\n",
            "Valid score: {'Accuracy': 0.9935332800588165, 'precision': 0.7362292993630574, 'recall': 0.8595181439619274, 'f1': 0.7931110196239879}\n"
          ]
        },
        {
          "name": "stderr",
          "output_type": "stream",
          "text": [
            "========== fold: 2 training ==========\n"
          ]
        },
        {
          "name": "stdout",
          "output_type": "stream",
          "text": [
            "Training completed in 104m 53s\n",
            "Epoch: 1/3\n"
          ]
        },
        {
          "data": {
            "application/vnd.jupyter.widget-view+json": {
              "model_id": "c003e9004551493d90db422b4ae2ac02",
              "version_major": 2,
              "version_minor": 0
            },
            "text/plain": [
              "  0%|          | 0/2860 [00:00<?, ?it/s]"
            ]
          },
          "metadata": {},
          "output_type": "display_data"
        },
        {
          "name": "stdout",
          "output_type": "stream",
          "text": [
            "Train loss: 0.14917253288049503\n"
          ]
        },
        {
          "data": {
            "application/vnd.jupyter.widget-view+json": {
              "model_id": "5e75b146938f498e80eb5143a463a398",
              "version_major": 2,
              "version_minor": 0
            },
            "text/plain": [
              "  0%|          | 0/715 [00:00<?, ?it/s]"
            ]
          },
          "metadata": {},
          "output_type": "display_data"
        },
        {
          "name": "stdout",
          "output_type": "stream",
          "text": [
            "Valid loss: 0.07233264935822636\n",
            "Valid score: {'Accuracy': 0.9924457976394077, 'precision': 0.729747999134761, 'recall': 0.777243405137657, 'f1': 0.7527472527472528}\n",
            "Epoch: 2/3\n"
          ]
        },
        {
          "data": {
            "application/vnd.jupyter.widget-view+json": {
              "model_id": "fccae27e941b4beabae321e78970f03e",
              "version_major": 2,
              "version_minor": 0
            },
            "text/plain": [
              "  0%|          | 0/2860 [00:00<?, ?it/s]"
            ]
          },
          "metadata": {},
          "output_type": "display_data"
        },
        {
          "name": "stdout",
          "output_type": "stream",
          "text": [
            "Train loss: 0.05993679576616609\n"
          ]
        },
        {
          "data": {
            "application/vnd.jupyter.widget-view+json": {
              "model_id": "fa88ec2f74fb469da87ff74107db7f21",
              "version_major": 2,
              "version_minor": 0
            },
            "text/plain": [
              "  0%|          | 0/715 [00:00<?, ?it/s]"
            ]
          },
          "metadata": {},
          "output_type": "display_data"
        },
        {
          "name": "stdout",
          "output_type": "stream",
          "text": [
            "Valid loss: 0.06113914396396662\n",
            "Valid score: {'Accuracy': 0.9932029221512392, 'precision': 0.7405243330514338, 'recall': 0.8321621932957033, 'f1': 0.7836734693877552}\n",
            "Epoch: 3/3\n"
          ]
        },
        {
          "data": {
            "application/vnd.jupyter.widget-view+json": {
              "model_id": "93af6e2eba51453799f93b097931956e",
              "version_major": 2,
              "version_minor": 0
            },
            "text/plain": [
              "  0%|          | 0/2860 [00:00<?, ?it/s]"
            ]
          },
          "metadata": {},
          "output_type": "display_data"
        },
        {
          "name": "stdout",
          "output_type": "stream",
          "text": [
            "Train loss: 0.041645591019579944\n"
          ]
        },
        {
          "data": {
            "application/vnd.jupyter.widget-view+json": {
              "model_id": "55b8f6e1be5d4034b8ea80fb5af0c40c",
              "version_major": 2,
              "version_minor": 0
            },
            "text/plain": [
              "  0%|          | 0/715 [00:00<?, ?it/s]"
            ]
          },
          "metadata": {},
          "output_type": "display_data"
        },
        {
          "name": "stdout",
          "output_type": "stream",
          "text": [
            "Valid loss: 0.06176407341656136\n",
            "Valid score: {'Accuracy': 0.9933034744218031, 'precision': 0.7306059061900949, 'recall': 0.867094804745997, 'f1': 0.793020346348851}\n",
            "Training completed in 157m 19s\n"
          ]
        },
        {
          "name": "stderr",
          "output_type": "stream",
          "text": [
            "========== fold: 3 training ==========\n"
          ]
        },
        {
          "name": "stdout",
          "output_type": "stream",
          "text": [
            "Epoch: 1/3\n"
          ]
        },
        {
          "data": {
            "application/vnd.jupyter.widget-view+json": {
              "model_id": "59b90cd755284098b4e131632d462eab",
              "version_major": 2,
              "version_minor": 0
            },
            "text/plain": [
              "  0%|          | 0/2860 [00:00<?, ?it/s]"
            ]
          },
          "metadata": {},
          "output_type": "display_data"
        },
        {
          "name": "stdout",
          "output_type": "stream",
          "text": [
            "Train loss: 0.14363577430538074\n"
          ]
        },
        {
          "data": {
            "application/vnd.jupyter.widget-view+json": {
              "model_id": "14e289e5351d4a1fbb3559f40acf9bc0",
              "version_major": 2,
              "version_minor": 0
            },
            "text/plain": [
              "  0%|          | 0/715 [00:00<?, ?it/s]"
            ]
          },
          "metadata": {},
          "output_type": "display_data"
        },
        {
          "name": "stdout",
          "output_type": "stream",
          "text": [
            "Valid loss: 0.0704493345157217\n",
            "Valid score: {'Accuracy': 0.9929699156957883, 'precision': 0.7671831545490664, 'recall': 0.7476693968726731, 'f1': 0.7573005912875589}\n",
            "Epoch: 2/3\n"
          ]
        },
        {
          "data": {
            "application/vnd.jupyter.widget-view+json": {
              "model_id": "043c05a0b37c4014b2ebe94104a67005",
              "version_major": 2,
              "version_minor": 0
            },
            "text/plain": [
              "  0%|          | 0/2860 [00:00<?, ?it/s]"
            ]
          },
          "metadata": {},
          "output_type": "display_data"
        },
        {
          "name": "stdout",
          "output_type": "stream",
          "text": [
            "Train loss: 0.05954574606274567\n"
          ]
        },
        {
          "data": {
            "application/vnd.jupyter.widget-view+json": {
              "model_id": "bf9dbdd0f478410991a44f2c79103002",
              "version_major": 2,
              "version_minor": 0
            },
            "text/plain": [
              "  0%|          | 0/715 [00:00<?, ?it/s]"
            ]
          },
          "metadata": {},
          "output_type": "display_data"
        },
        {
          "name": "stdout",
          "output_type": "stream",
          "text": [
            "Valid loss: 0.059177571517730794\n",
            "Valid score: {'Accuracy': 0.9934876689525, 'precision': 0.7522291272629019, 'recall': 0.8291883842144453, 'f1': 0.7888361549904371}\n",
            "Epoch: 3/3\n"
          ]
        },
        {
          "data": {
            "application/vnd.jupyter.widget-view+json": {
              "model_id": "8ed6b9f03ea84e68b1e8a1ea295737ac",
              "version_major": 2,
              "version_minor": 0
            },
            "text/plain": [
              "  0%|          | 0/2860 [00:00<?, ?it/s]"
            ]
          },
          "metadata": {},
          "output_type": "display_data"
        },
        {
          "name": "stdout",
          "output_type": "stream",
          "text": [
            "Train loss: 0.04173101242563922\n"
          ]
        },
        {
          "data": {
            "application/vnd.jupyter.widget-view+json": {
              "model_id": "df53a22cea2a4b91954407a4cf0720f3",
              "version_major": 2,
              "version_minor": 0
            },
            "text/plain": [
              "  0%|          | 0/715 [00:00<?, ?it/s]"
            ]
          },
          "metadata": {},
          "output_type": "display_data"
        },
        {
          "name": "stderr",
          "output_type": "stream",
          "text": [
            "========== fold: 4 training ==========\n"
          ]
        },
        {
          "name": "stdout",
          "output_type": "stream",
          "text": [
            "Valid loss: 0.060478256563339515\n",
            "Valid score: {'Accuracy': 0.9936021426683299, 'precision': 0.745055400227814, 'recall': 0.8571854058078928, 'f1': 0.7971967923770481}\n",
            "Training completed in 209m 44s\n",
            "Epoch: 1/3\n"
          ]
        },
        {
          "data": {
            "application/vnd.jupyter.widget-view+json": {
              "model_id": "695d6d0ad9fb454b8b38de256c993554",
              "version_major": 2,
              "version_minor": 0
            },
            "text/plain": [
              "  0%|          | 0/2860 [00:00<?, ?it/s]"
            ]
          },
          "metadata": {},
          "output_type": "display_data"
        },
        {
          "name": "stdout",
          "output_type": "stream",
          "text": [
            "Train loss: 0.14797201935373358\n"
          ]
        },
        {
          "data": {
            "application/vnd.jupyter.widget-view+json": {
              "model_id": "80bd36a4af4a4a48b9fa73007fca876a",
              "version_major": 2,
              "version_minor": 0
            },
            "text/plain": [
              "  0%|          | 0/715 [00:00<?, ?it/s]"
            ]
          },
          "metadata": {},
          "output_type": "display_data"
        },
        {
          "name": "stdout",
          "output_type": "stream",
          "text": [
            "Valid loss: 0.0708556484256599\n",
            "Valid score: {'Accuracy': 0.992988473761816, 'precision': 0.7974318233405753, 'recall': 0.7051671732522796, 'f1': 0.7484668178290446}\n",
            "Epoch: 2/3\n"
          ]
        },
        {
          "data": {
            "application/vnd.jupyter.widget-view+json": {
              "model_id": "17d44f1817ca40a299f278a20ed28bc8",
              "version_major": 2,
              "version_minor": 0
            },
            "text/plain": [
              "  0%|          | 0/2860 [00:00<?, ?it/s]"
            ]
          },
          "metadata": {},
          "output_type": "display_data"
        },
        {
          "name": "stdout",
          "output_type": "stream",
          "text": [
            "Train loss: 0.061264014611614605\n"
          ]
        },
        {
          "data": {
            "application/vnd.jupyter.widget-view+json": {
              "model_id": "c0f965b81e6f4f8cb34821152232ab61",
              "version_major": 2,
              "version_minor": 0
            },
            "text/plain": [
              "  0%|          | 0/715 [00:00<?, ?it/s]"
            ]
          },
          "metadata": {},
          "output_type": "display_data"
        },
        {
          "name": "stdout",
          "output_type": "stream",
          "text": [
            "Valid loss: 0.06465651685201124\n",
            "Valid score: {'Accuracy': 0.9934287886166309, 'precision': 0.7554764729141953, 'recall': 0.8217870046452945, 'f1': 0.7872378414756417}\n",
            "Epoch: 3/3\n"
          ]
        },
        {
          "data": {
            "application/vnd.jupyter.widget-view+json": {
              "model_id": "ed1b9aab1ddd4532ba921a04b1476580",
              "version_major": 2,
              "version_minor": 0
            },
            "text/plain": [
              "  0%|          | 0/2860 [00:00<?, ?it/s]"
            ]
          },
          "metadata": {},
          "output_type": "display_data"
        },
        {
          "name": "stdout",
          "output_type": "stream",
          "text": [
            "Train loss: 0.04156035825884452\n"
          ]
        },
        {
          "data": {
            "application/vnd.jupyter.widget-view+json": {
              "model_id": "c264a2c6933240adb853a99be13ad197",
              "version_major": 2,
              "version_minor": 0
            },
            "text/plain": [
              "  0%|          | 0/715 [00:00<?, ?it/s]"
            ]
          },
          "metadata": {},
          "output_type": "display_data"
        },
        {
          "name": "stdout",
          "output_type": "stream",
          "text": [
            "Valid loss: 0.06219129493432401\n",
            "Valid score: {'Accuracy': 0.9937732353045978, 'precision': 0.7645748722651644, 'recall': 0.8367265011183116, 'f1': 0.7990251783293857}\n",
            "Training completed in 262m 12s\n"
          ]
        }
      ],
      "source": [
        "for fold in range(k):\n",
        "    LOGGER.info(f\"========== fold: {fold} training ==========\")\n",
        "    train_loss_data, valid_loss_data = [], []\n",
        "    score_data_list = []\n",
        "\n",
        "    model = CustomModel(hyperparameters).to(DEVICE)\n",
        "    criterion = torch.nn.BCEWithLogitsLoss(reduction = \"none\")\n",
        "    optimizer = optim.AdamW(model.parameters(), lr=hyperparameters['lr'])\n",
        "\n",
        "    if fold in trn_fold:\n",
        "#         train\n",
        "        X_train = train[train['fold'] != fold].reset_index(drop=True)\n",
        "#         test\n",
        "        X_test = train[train['fold'] == fold].reset_index(drop=True)\n",
        "\n",
        "        training_data = CustomDataset(X_train, tokenizer, hyperparameters)\n",
        "        train_dataloader = DataLoader(training_data, batch_size=hyperparameters['batch_size'], shuffle=True)\n",
        "\n",
        "        test_data = CustomDataset(X_test, tokenizer, hyperparameters)\n",
        "        test_dataloader = DataLoader(test_data, batch_size=hyperparameters['batch_size'], shuffle=False)\n",
        "\n",
        "        best_loss = np.inf\n",
        "#\n",
        "        for i in range(epochs):\n",
        "            print(\"Epoch: {}/{}\".format(i + 1, epochs))\n",
        "            # first train model\n",
        "            train_loss = train_model(model, train_dataloader, optimizer, criterion)\n",
        "            train_loss_data.append(train_loss)\n",
        "            print(f\"Train loss: {train_loss}\")\n",
        "            # evaluate model\n",
        "            valid_loss, score = eval_model(model, test_dataloader, criterion)\n",
        "            valid_loss_data.append(valid_loss)\n",
        "            score_data_list.append(score)\n",
        "            print(f\"Valid loss: {valid_loss}\")\n",
        "            print(f\"Valid score: {score}\")\n",
        "\n",
        "            if valid_loss < best_loss:\n",
        "                best_loss = valid_loss\n",
        "                torch.save(model.state_dict(), \"nbme_bert_v2.pth\")\n",
        "        T_loss.append(train_loss_data)\n",
        "        V_loss.append(valid_loss_data)\n",
        "        total_score.append(score_data_list)\n",
        "\n",
        "\n",
        "        time_elapsed = time.time() - since\n",
        "        print('Training completed in {:.0f}m {:.0f}s'.format(\n",
        "            time_elapsed // 60, time_elapsed % 60))\n",
        "    torch.cuda.empty_cache()\n",
        "    gc.collect()\n"
      ]
    },
    {
      "cell_type": "code",
      "execution_count": null,
      "id": "1b78d845",
      "metadata": {
        "execution": {
          "iopub.execute_input": "2024-06-16T09:39:52.513860Z",
          "iopub.status.busy": "2024-06-16T09:39:52.513196Z",
          "iopub.status.idle": "2024-06-16T09:39:52.516096Z",
          "shell.execute_reply": "2024-06-16T09:39:52.515612Z",
          "shell.execute_reply.started": "2024-06-15T22:09:21.454107Z"
        },
        "papermill": {
          "duration": 0.090419,
          "end_time": "2024-06-16T09:39:52.516238",
          "exception": false,
          "start_time": "2024-06-16T09:39:52.425819",
          "status": "completed"
        },
        "tags": [],
        "id": "1b78d845"
      },
      "outputs": [],
      "source": [
        "def mean_result(df,score=False):\n",
        "    if not score:\n",
        "        for i in range(len(df)):\n",
        "            df[i] = pd.DataFrame(df[i])\n",
        "    elif score:\n",
        "        for i in range(len(df)):\n",
        "            df[i] = pd.DataFrame.from_dict(df[i])\n",
        "    df_concat = pd.concat((df[0], df[1]))\n",
        "    for i in range(2,len(df)):\n",
        "        df_concat = pd.concat((df_concat,df[i]))\n",
        "    by_row_index = df_concat.groupby(df_concat.index)\n",
        "    return by_row_index.mean()"
      ]
    },
    {
      "cell_type": "code",
      "execution_count": null,
      "id": "6f71c299",
      "metadata": {
        "execution": {
          "iopub.execute_input": "2024-06-16T09:39:52.658837Z",
          "iopub.status.busy": "2024-06-16T09:39:52.657915Z",
          "iopub.status.idle": "2024-06-16T09:39:52.671860Z",
          "shell.execute_reply": "2024-06-16T09:39:52.672327Z",
          "shell.execute_reply.started": "2024-06-15T22:09:21.462669Z"
        },
        "papermill": {
          "duration": 0.088079,
          "end_time": "2024-06-16T09:39:52.672512",
          "exception": false,
          "start_time": "2024-06-16T09:39:52.584433",
          "status": "completed"
        },
        "tags": [],
        "id": "6f71c299"
      },
      "outputs": [],
      "source": [
        "train_loss_data = mean_result(T_loss)\n",
        "valid_loss_data = mean_result(V_loss)\n",
        "score_df = mean_result(total_score,score=True)"
      ]
    },
    {
      "cell_type": "markdown",
      "id": "8e27dd09",
      "metadata": {
        "papermill": {
          "duration": 0.068647,
          "end_time": "2024-06-16T09:39:52.809127",
          "exception": false,
          "start_time": "2024-06-16T09:39:52.740480",
          "status": "completed"
        },
        "tags": [],
        "id": "8e27dd09"
      },
      "source": [
        "### Experimets:\n",
        "- exp 1\n",
        "Params: Base bert with 1FC, epoch 5, lr 1e-5\n",
        "\n",
        "{'Accuracy': 0.9922235313632376, 'precision': 0.699022058288238, 'recall': 0.8327118203104674, 'f1': 0.7600327168148598}\n",
        "\n",
        "- exp 2:\n",
        "Params: Base bert with 2FC, epoch 2, lr 1e-5\n",
        "\n",
        "{'Accuracy': 0.9931995444417273, 'precision': 0.755762387079113, 'recall': 0.7980805365247304, 'f1': 0.7763452047860748}\n",
        "\n",
        "- exp 3:\n",
        "params: 2FC, epoch 2, lr 1e-5 with gradient clip\n",
        "{'Accuracy': 0.9932764968526464, 'precision': 0.7633003963601853, 'recall': 0.7905067499205042, 'f1': 0.7766653886025079}\n",
        "\n",
        "- exp 4: 3FC, epoch 2, 1e-5 with gradient clip\n",
        "\n",
        "{'Accuracy': 0.9933637095850213, 'precision': 0.7576469952442715, 'recall': 0.8105397045645073, 'f1': 0.7832013519364255}\n"
      ]
    },
    {
      "cell_type": "code",
      "execution_count": null,
      "id": "50e2231b",
      "metadata": {
        "execution": {
          "iopub.execute_input": "2024-06-16T09:39:52.953851Z",
          "iopub.status.busy": "2024-06-16T09:39:52.953237Z",
          "iopub.status.idle": "2024-06-16T09:39:53.234650Z",
          "shell.execute_reply": "2024-06-16T09:39:53.235194Z",
          "shell.execute_reply.started": "2024-06-15T22:09:21.509182Z"
        },
        "papermill": {
          "duration": 0.35797,
          "end_time": "2024-06-16T09:39:53.235369",
          "exception": false,
          "start_time": "2024-06-16T09:39:52.877399",
          "status": "completed"
        },
        "tags": [],
        "id": "50e2231b",
        "outputId": "47dc58f7-ee06-4f46-f2d4-4e2f313ab9df"
      },
      "outputs": [
        {
          "data": {
            "text/plain": [
              "<matplotlib.legend.Legend at 0x7836a35cadd0>"
            ]
          },
          "execution_count": 25,
          "metadata": {},
          "output_type": "execute_result"
        },
        {
          "data": {
            "image/png": "[encoded data removed]",
            "text/plain": [
              "<Figure size 432x288 with 1 Axes>"
            ]
          },
          "metadata": {
            "needs_background": "light"
          },
          "output_type": "display_data"
        }
      ],
      "source": [
        "from matplotlib import pyplot as plt\n",
        "\n",
        "plt.plot(train_loss_data, label=\"Training loss\")\n",
        "plt.plot(valid_loss_data, label=\"validation loss\")\n",
        "plt.legend(frameon=False)"
      ]
    },
    {
      "cell_type": "code",
      "execution_count": null,
      "id": "3fa61d2a",
      "metadata": {
        "execution": {
          "iopub.execute_input": "2024-06-16T09:39:53.380284Z",
          "iopub.status.busy": "2024-06-16T09:39:53.379643Z",
          "iopub.status.idle": "2024-06-16T09:39:53.390928Z",
          "shell.execute_reply": "2024-06-16T09:39:53.391424Z",
          "shell.execute_reply.started": "2024-06-15T22:09:21.792894Z"
        },
        "papermill": {
          "duration": 0.086137,
          "end_time": "2024-06-16T09:39:53.391585",
          "exception": false,
          "start_time": "2024-06-16T09:39:53.305448",
          "status": "completed"
        },
        "tags": [],
        "id": "3fa61d2a",
        "outputId": "094e9b18-7309-48a5-b019-96b0ea83b2b4"
      },
      "outputs": [
        {
          "data": {
            "text/html": [
              "<div>\n",
              "<style scoped>\n",
              "    .dataframe tbody tr th:only-of-type {\n",
              "        vertical-align: middle;\n",
              "    }\n",
              "\n",
              "    .dataframe tbody tr th {\n",
              "        vertical-align: top;\n",
              "    }\n",
              "\n",
              "    .dataframe thead th {\n",
              "        text-align: right;\n",
              "    }\n",
              "</style>\n",
              "<table border=\"1\" class=\"dataframe\">\n",
              "  <thead>\n",
              "    <tr style=\"text-align: right;\">\n",
              "      <th></th>\n",
              "      <th>Accuracy</th>\n",
              "      <th>precision</th>\n",
              "      <th>recall</th>\n",
              "      <th>f1</th>\n",
              "    </tr>\n",
              "  </thead>\n",
              "  <tbody>\n",
              "    <tr>\n",
              "      <th>0</th>\n",
              "      <td>0.992579</td>\n",
              "      <td>0.743460</td>\n",
              "      <td>0.763785</td>\n",
              "      <td>0.751516</td>\n",
              "    </tr>\n",
              "    <tr>\n",
              "      <th>1</th>\n",
              "      <td>0.993206</td>\n",
              "      <td>0.736559</td>\n",
              "      <td>0.839095</td>\n",
              "      <td>0.784039</td>\n",
              "    </tr>\n",
              "    <tr>\n",
              "      <th>2</th>\n",
              "      <td>0.993612</td>\n",
              "      <td>0.748783</td>\n",
              "      <td>0.851632</td>\n",
              "      <td>0.796672</td>\n",
              "    </tr>\n",
              "  </tbody>\n",
              "</table>\n",
              "</div>"
            ],
            "text/plain": [
              "   Accuracy  precision    recall        f1\n",
              "0  0.992579   0.743460  0.763785  0.751516\n",
              "1  0.993206   0.736559  0.839095  0.784039\n",
              "2  0.993612   0.748783  0.851632  0.796672"
            ]
          },
          "execution_count": 26,
          "metadata": {},
          "output_type": "execute_result"
        }
      ],
      "source": [
        "import pandas as pd\n",
        "\n",
        "# score_df = pd.DataFrame.from_dict(score_data_list)\n",
        "score_df.head()"
      ]
    },
    {
      "cell_type": "markdown",
      "id": "b5c2dd1a",
      "metadata": {
        "papermill": {
          "duration": 0.071144,
          "end_time": "2024-06-16T09:39:53.532558",
          "exception": false,
          "start_time": "2024-06-16T09:39:53.461414",
          "status": "completed"
        },
        "tags": [],
        "id": "b5c2dd1a"
      },
      "source": [
        "# Prepare For Testing"
      ]
    },
    {
      "cell_type": "markdown",
      "id": "ab2a16f0",
      "metadata": {
        "papermill": {
          "duration": 0.068044,
          "end_time": "2024-06-16T09:39:53.670024",
          "exception": false,
          "start_time": "2024-06-16T09:39:53.601980",
          "status": "completed"
        },
        "tags": [],
        "id": "ab2a16f0"
      },
      "source": [
        "Load best model"
      ]
    },
    {
      "cell_type": "code",
      "execution_count": null,
      "id": "494d85e3",
      "metadata": {
        "execution": {
          "iopub.execute_input": "2024-06-16T09:39:53.813861Z",
          "iopub.status.busy": "2024-06-16T09:39:53.813244Z",
          "iopub.status.idle": "2024-06-16T09:39:54.041007Z",
          "shell.execute_reply": "2024-06-16T09:39:54.041520Z",
          "shell.execute_reply.started": "2024-06-15T22:09:21.809642Z"
        },
        "papermill": {
          "duration": 0.302381,
          "end_time": "2024-06-16T09:39:54.041686",
          "exception": false,
          "start_time": "2024-06-16T09:39:53.739305",
          "status": "completed"
        },
        "tags": [],
        "id": "494d85e3",
        "outputId": "17b65767-31ff-4f18-a852-f2b3494e5249"
      },
      "outputs": [
        {
          "data": {
            "text/plain": [
              "<All keys matched successfully>"
            ]
          },
          "execution_count": 27,
          "metadata": {},
          "output_type": "execute_result"
        }
      ],
      "source": [
        "model.load_state_dict(torch.load(\"nbme_bert_v2.pth\", map_location = DEVICE))"
      ]
    },
    {
      "cell_type": "code",
      "execution_count": null,
      "id": "8d079345",
      "metadata": {
        "execution": {
          "iopub.execute_input": "2024-06-16T09:39:54.197184Z",
          "iopub.status.busy": "2024-06-16T09:39:54.196499Z",
          "iopub.status.idle": "2024-06-16T09:39:54.562565Z",
          "shell.execute_reply": "2024-06-16T09:39:54.561802Z",
          "shell.execute_reply.started": "2024-06-15T22:09:22.042902Z"
        },
        "papermill": {
          "duration": 0.449846,
          "end_time": "2024-06-16T09:39:54.562716",
          "exception": false,
          "start_time": "2024-06-16T09:39:54.112870",
          "status": "completed"
        },
        "tags": [],
        "id": "8d079345"
      },
      "outputs": [],
      "source": [
        "def create_test_df():\n",
        "    feats = pd.read_csv(f\"{BASE_URL}/features.csv\")\n",
        "    notes = pd.read_csv(f\"{BASE_URL}/patient_notes.csv\")\n",
        "    test = pd.read_csv(f\"{BASE_URL}/test.csv\")\n",
        "\n",
        "    merged = test.merge(notes, how = \"left\")\n",
        "    merged = merged.merge(feats, how = \"left\")\n",
        "\n",
        "    def process_feature_text(text):\n",
        "        return text.replace(\"-OR-\", \";-\").replace(\"-\", \" \")\n",
        "\n",
        "    merged[\"feature_text\"] = [process_feature_text(x) for x in merged[\"feature_text\"]]\n",
        "\n",
        "    return merged\n",
        "\n",
        "\n",
        "class SubmissionDataset(Dataset):\n",
        "    def __init__(self, data, tokenizer, config):\n",
        "        self.data = data\n",
        "        self.tokenizer = tokenizer\n",
        "        self.config = config\n",
        "\n",
        "    def __len__(self):\n",
        "        return len(self.data)\n",
        "\n",
        "    def __getitem__(self, idx):\n",
        "        example = self.data.loc[idx]\n",
        "        tokenized = self.tokenizer(\n",
        "            example[\"feature_text\"],\n",
        "            example[\"pn_history\"],\n",
        "            truncation = self.config['truncation'],\n",
        "            max_length = self.config['max_length'],\n",
        "            padding = self.config['padding'],\n",
        "            return_offsets_mapping = self.config['return_offsets_mapping']\n",
        "        )\n",
        "        tokenized[\"sequence_ids\"] = tokenized.sequence_ids()\n",
        "\n",
        "        input_ids = np.array(tokenized[\"input_ids\"])\n",
        "        attention_mask = np.array(tokenized[\"attention_mask\"])\n",
        "        token_type_ids = np.array(tokenized[\"token_type_ids\"])\n",
        "        offset_mapping = np.array(tokenized[\"offset_mapping\"])\n",
        "        sequence_ids = np.array(tokenized[\"sequence_ids\"]).astype(\"float16\")\n",
        "\n",
        "        return input_ids, attention_mask, token_type_ids, offset_mapping, sequence_ids\n",
        "\n",
        "\n",
        "test_df = create_test_df()\n",
        "\n",
        "submission_data = SubmissionDataset(test_df, tokenizer, hyperparameters)\n",
        "submission_dataloader = DataLoader(submission_data, batch_size=hyperparameters['batch_size'], shuffle=False)"
      ]
    },
    {
      "cell_type": "code",
      "execution_count": null,
      "id": "d08a16f8",
      "metadata": {
        "execution": {
          "iopub.execute_input": "2024-06-16T09:39:54.712745Z",
          "iopub.status.busy": "2024-06-16T09:39:54.711797Z",
          "iopub.status.idle": "2024-06-16T09:39:54.943882Z",
          "shell.execute_reply": "2024-06-16T09:39:54.943344Z",
          "shell.execute_reply.started": "2024-06-15T22:09:22.391869Z"
        },
        "papermill": {
          "duration": 0.310726,
          "end_time": "2024-06-16T09:39:54.944041",
          "exception": false,
          "start_time": "2024-06-16T09:39:54.633315",
          "status": "completed"
        },
        "tags": [],
        "id": "d08a16f8",
        "outputId": "14944528-1f72-4434-f6be-98ebd669e0f4",
        "colab": {
          "referenced_widgets": [
            "a6326b813cc84edc90cc498ea9a61eff"
          ]
        }
      },
      "outputs": [
        {
          "data": {
            "application/vnd.jupyter.widget-view+json": {
              "model_id": "a6326b813cc84edc90cc498ea9a61eff",
              "version_major": 2,
              "version_minor": 0
            },
            "text/plain": [
              "  0%|          | 0/2 [00:00<?, ?it/s]"
            ]
          },
          "metadata": {},
          "output_type": "display_data"
        }
      ],
      "source": [
        "model.eval()\n",
        "preds = []\n",
        "offsets = []\n",
        "seq_ids = []\n",
        "\n",
        "for batch in tqdm(submission_dataloader):\n",
        "    input_ids = batch[0].to(DEVICE)\n",
        "    attention_mask = batch[1].to(DEVICE)\n",
        "    token_type_ids = batch[2].to(DEVICE)\n",
        "    offset_mapping = batch[3]\n",
        "    sequence_ids = batch[4]\n",
        "\n",
        "    logits = model(input_ids, attention_mask, token_type_ids)\n",
        "\n",
        "    preds.append(logits.detach().cpu().numpy())\n",
        "    offsets.append(offset_mapping.numpy())\n",
        "    seq_ids.append(sequence_ids.numpy())\n",
        "\n",
        "preds = np.concatenate(preds, axis=0)\n",
        "offsets = np.concatenate(offsets, axis=0)\n",
        "seq_ids = np.concatenate(seq_ids, axis=0)"
      ]
    },
    {
      "cell_type": "code",
      "execution_count": null,
      "id": "8044fdbc",
      "metadata": {
        "execution": {
          "iopub.execute_input": "2024-06-16T09:39:55.103874Z",
          "iopub.status.busy": "2024-06-16T09:39:55.099996Z",
          "iopub.status.idle": "2024-06-16T09:39:55.106456Z",
          "shell.execute_reply": "2024-06-16T09:39:55.105917Z",
          "shell.execute_reply.started": "2024-06-15T22:09:22.597423Z"
        },
        "papermill": {
          "duration": 0.091407,
          "end_time": "2024-06-16T09:39:55.106597",
          "exception": false,
          "start_time": "2024-06-16T09:39:55.015190",
          "status": "completed"
        },
        "tags": [],
        "id": "8044fdbc"
      },
      "outputs": [],
      "source": [
        "location_preds = get_location_predictions(preds, offsets, seq_ids, test=True)"
      ]
    },
    {
      "cell_type": "code",
      "execution_count": null,
      "id": "05b10577",
      "metadata": {
        "execution": {
          "iopub.execute_input": "2024-06-16T09:39:55.253325Z",
          "iopub.status.busy": "2024-06-16T09:39:55.252530Z",
          "iopub.status.idle": "2024-06-16T09:39:55.255425Z",
          "shell.execute_reply": "2024-06-16T09:39:55.255892Z",
          "shell.execute_reply.started": "2024-06-15T22:09:22.624051Z"
        },
        "papermill": {
          "duration": 0.078091,
          "end_time": "2024-06-16T09:39:55.256074",
          "exception": false,
          "start_time": "2024-06-16T09:39:55.177983",
          "status": "completed"
        },
        "tags": [],
        "id": "05b10577",
        "outputId": "d09aac49-2e05-4dc2-d115-423f1c155e0c"
      },
      "outputs": [
        {
          "data": {
            "text/plain": [
              "(5, 5)"
            ]
          },
          "execution_count": 31,
          "metadata": {},
          "output_type": "execute_result"
        }
      ],
      "source": [
        "len(location_preds), len(test_df)"
      ]
    },
    {
      "cell_type": "code",
      "execution_count": null,
      "id": "5ff0713b",
      "metadata": {
        "execution": {
          "iopub.execute_input": "2024-06-16T09:39:55.404865Z",
          "iopub.status.busy": "2024-06-16T09:39:55.404288Z",
          "iopub.status.idle": "2024-06-16T09:39:55.406985Z",
          "shell.execute_reply": "2024-06-16T09:39:55.406379Z",
          "shell.execute_reply.started": "2024-06-15T22:09:22.634593Z"
        },
        "papermill": {
          "duration": 0.079569,
          "end_time": "2024-06-16T09:39:55.407114",
          "exception": false,
          "start_time": "2024-06-16T09:39:55.327545",
          "status": "completed"
        },
        "tags": [],
        "id": "5ff0713b"
      },
      "outputs": [],
      "source": [
        "test_df[\"location\"] = location_preds"
      ]
    },
    {
      "cell_type": "code",
      "execution_count": null,
      "id": "4f18cd4f",
      "metadata": {
        "execution": {
          "iopub.execute_input": "2024-06-16T09:39:55.555491Z",
          "iopub.status.busy": "2024-06-16T09:39:55.554781Z",
          "iopub.status.idle": "2024-06-16T09:39:55.565809Z",
          "shell.execute_reply": "2024-06-16T09:39:55.566473Z",
          "shell.execute_reply.started": "2024-06-15T22:09:22.644535Z"
        },
        "papermill": {
          "duration": 0.0885,
          "end_time": "2024-06-16T09:39:55.566684",
          "exception": false,
          "start_time": "2024-06-16T09:39:55.478184",
          "status": "completed"
        },
        "tags": [],
        "id": "4f18cd4f",
        "outputId": "f8bcd1ca-a691-49d6-ebe0-74e347b78499"
      },
      "outputs": [
        {
          "data": {
            "text/html": [
              "<div>\n",
              "<style scoped>\n",
              "    .dataframe tbody tr th:only-of-type {\n",
              "        vertical-align: middle;\n",
              "    }\n",
              "\n",
              "    .dataframe tbody tr th {\n",
              "        vertical-align: top;\n",
              "    }\n",
              "\n",
              "    .dataframe thead th {\n",
              "        text-align: right;\n",
              "    }\n",
              "</style>\n",
              "<table border=\"1\" class=\"dataframe\">\n",
              "  <thead>\n",
              "    <tr style=\"text-align: right;\">\n",
              "      <th></th>\n",
              "      <th>id</th>\n",
              "      <th>location</th>\n",
              "    </tr>\n",
              "  </thead>\n",
              "  <tbody>\n",
              "    <tr>\n",
              "      <th>0</th>\n",
              "      <td>00016_000</td>\n",
              "      <td>696 717</td>\n",
              "    </tr>\n",
              "    <tr>\n",
              "      <th>1</th>\n",
              "      <td>00016_001</td>\n",
              "      <td>668 693</td>\n",
              "    </tr>\n",
              "    <tr>\n",
              "      <th>2</th>\n",
              "      <td>00016_002</td>\n",
              "      <td>203 217</td>\n",
              "    </tr>\n",
              "    <tr>\n",
              "      <th>3</th>\n",
              "      <td>00016_003</td>\n",
              "      <td>70 91</td>\n",
              "    </tr>\n",
              "    <tr>\n",
              "      <th>4</th>\n",
              "      <td>00016_004</td>\n",
              "      <td>222 258; 0 0</td>\n",
              "    </tr>\n",
              "  </tbody>\n",
              "</table>\n",
              "</div>"
            ],
            "text/plain": [
              "          id      location\n",
              "0  00016_000       696 717\n",
              "1  00016_001       668 693\n",
              "2  00016_002       203 217\n",
              "3  00016_003         70 91\n",
              "4  00016_004  222 258; 0 0"
            ]
          },
          "execution_count": 33,
          "metadata": {},
          "output_type": "execute_result"
        }
      ],
      "source": [
        "test_df[[\"id\", \"location\"]].to_csv(\"submission.csv\", index = False)\n",
        "pd.read_csv(\"submission.csv\").head()"
      ]
    },
    {
      "cell_type": "markdown",
      "id": "7bad2c1e",
      "metadata": {
        "papermill": {
          "duration": 0.072489,
          "end_time": "2024-06-16T09:39:55.710068",
          "exception": false,
          "start_time": "2024-06-16T09:39:55.637579",
          "status": "completed"
        },
        "tags": [],
        "id": "7bad2c1e"
      },
      "source": [
        "# Special Credits\n",
        "- [tomohiroh](https://www.kaggle.com/tomohiroh/nbme-bert-for-beginners)\n",
        "- [gazu468](https://www.kaggle.com/gazu468/nbme-details-eda)\n"
      ]
    }
  ],
  "metadata": {
    "kaggle": {
      "accelerator": "nvidiaTeslaT4",
      "dataSources": [
        {
          "databundleVersionId": 3075283,
          "sourceId": 33607,
          "sourceType": "competition"
        },
        {
          "datasetId": 431504,
          "sourceId": 819665,
          "sourceType": "datasetVersion"
        },
        {
          "datasetId": 934701,
          "sourceId": 8700690,
          "sourceType": "datasetVersion"
        }
      ],
      "dockerImageVersionId": 30158,
      "isGpuEnabled": true,
      "isInternetEnabled": false,
      "language": "python",
      "sourceType": "notebook"
    },
    "kernelspec": {
      "display_name": "Python 3",
      "language": "python",
      "name": "python3"
    },
    "language_info": {
      "codemirror_mode": {
        "name": "ipython",
        "version": 3
      },
      "file_extension": ".py",
      "mimetype": "text/x-python",
      "name": "python",
      "nbconvert_exporter": "python",
      "pygments_lexer": "ipython3",
      "version": "3.7.12"
    },
    "papermill": {
      "default_parameters": {},
      "duration": 15769.747517,
      "end_time": "2024-06-16T09:39:59.429423",
      "environment_variables": {},
      "exception": null,
      "input_path": "__notebook__.ipynb",
      "output_path": "__notebook__.ipynb",
      "parameters": {},
      "start_time": "2024-06-16T05:17:09.681906",
      "version": "2.3.3"
    },
    "colab": {
      "provenance": []
    }
  },
  "nbformat": 4,
  "nbformat_minor": 5
}